{
 "cells": [
  {
   "cell_type": "markdown",
   "metadata": {},
   "source": [
    "# Documents preprocessing"
   ]
  },
  {
   "cell_type": "code",
   "execution_count": null,
   "metadata": {},
   "outputs": [],
   "source": [
    "# imports\n",
    "import spacy"
   ]
  },
  {
   "cell_type": "markdown",
   "metadata": {},
   "source": [
    "## Step 1 : collection indexing"
   ]
  },
  {
   "cell_type": "code",
   "execution_count": 9,
   "metadata": {},
   "outputs": [
    {
     "name": "stdout",
     "output_type": "stream",
     "text": [
      "{'id': 1, 'title': '18 Editions of the Dewey Decimal Classifications', 'abstract': \"The present study is a history of the DEWEY Decimal Classification.  The first edition of the DDC was published in 1876, the eighteenth edition in 1971, and future editions will continue to appear as needed.  In spite of the DDC's long and healthy life, however, its full story has never been told.  There have been biographies of Dewey that briefly describe his system, but this is the first attempt to provide a detailed history of the work that more than any other has spurred the growth of librarianship in this country and abroad.\"}\n"
     ]
    }
   ],
   "source": [
    "# read file \"CISI.ALLnettoye\" and create a list of dictionaries\n",
    "\n",
    "data = {}\n",
    "\n",
    "file = \"CISI.ALLnettoye\"\n",
    "with open(file, \"r\") as f:\n",
    "    state = 0\n",
    "    while True:\n",
    "        line = f.readline()\n",
    "        if not line:\n",
    "            break\n",
    "        if line.startswith(\".I\"):\n",
    "            doc_id = line.split()[1]\n",
    "            # cast to int\n",
    "            doc_id = int(doc_id)\n",
    "            data[doc_id] = {}\n",
    "            data[doc_id][\"id\"] = doc_id\n",
    "            data[doc_id][\"title\"] = \"\"\n",
    "            data[doc_id][\"abstract\"] = \"\"\n",
    "            state = 1\n",
    "        else:\n",
    "            if state == 1:\n",
    "                data[doc_id][\"title\"] = line.strip()\n",
    "                state = 2\n",
    "            elif state == 2:\n",
    "                if data[doc_id][\"abstract\"] != \"\":\n",
    "                    data[doc_id][\"abstract\"] += \" \"\n",
    "                data[doc_id][\"abstract\"] += line.strip()\n",
    "            \n",
    "\n",
    "print(data[1])"
   ]
  },
  {
   "cell_type": "code",
   "execution_count": 10,
   "metadata": {},
   "outputs": [
    {
     "name": "stdout",
     "output_type": "stream",
     "text": [
      "{'id': 1, 'title': '18 Editions of the Dewey Decimal Classifications', 'abstract': ['The', 'present', 'study', 'is', 'a', 'history', 'of', 'the', 'DEWEY', 'Decimal', 'Classification.', 'The', 'first', 'edition', 'of', 'the', 'DDC', 'was', 'published', 'in', '1876,', 'the', 'eighteenth', 'edition', 'in', '1971,', 'and', 'future', 'editions', 'will', 'continue', 'to', 'appear', 'as', 'needed.', 'In', 'spite', 'of', 'the', \"DDC's\", 'long', 'and', 'healthy', 'life,', 'however,', 'its', 'full', 'story', 'has', 'never', 'been', 'told.', 'There', 'have', 'been', 'biographies', 'of', 'Dewey', 'that', 'briefly', 'describe', 'his', 'system,', 'but', 'this', 'is', 'the', 'first', 'attempt', 'to', 'provide', 'a', 'detailed', 'history', 'of', 'the', 'work', 'that', 'more', 'than', 'any', 'other', 'has', 'spurred', 'the', 'growth', 'of', 'librarianship', 'in', 'this', 'country', 'and', 'abroad.', '18', 'Editions', 'of', 'the', 'Dewey', 'Decimal', 'Classifications']}\n"
     ]
    }
   ],
   "source": [
    "# For each article, split the abstract into words\n",
    "for doc_id in data:\n",
    "    data[doc_id][\"abstract\"] = data[doc_id][\"title\"].split() + data[doc_id][\"abstract\"].split()\n",
    "\n",
    "print(data[1])"
   ]
  },
  {
   "cell_type": "markdown",
   "metadata": {},
   "source": [
    "## Step 2 : build the search engine"
   ]
  },
  {
   "cell_type": "markdown",
   "metadata": {},
   "source": []
  }
 ],
 "metadata": {
  "kernelspec": {
   "display_name": "Python 3",
   "language": "python",
   "name": "python3"
  },
  "language_info": {
   "codemirror_mode": {
    "name": "ipython",
    "version": 3
   },
   "file_extension": ".py",
   "mimetype": "text/x-python",
   "name": "python",
   "nbconvert_exporter": "python",
   "pygments_lexer": "ipython3",
   "version": "3.10.12"
  }
 },
 "nbformat": 4,
 "nbformat_minor": 2
}
